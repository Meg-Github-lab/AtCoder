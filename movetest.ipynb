{
 "cells": [
  {
   "cell_type": "code",
   "execution_count": null,
   "metadata": {},
   "outputs": [],
   "source": [
    "N "
   ]
  }
 ],
 "metadata": {
  "interpreter": {
   "hash": "26bb1da036db1213a84bbcbf0b67124f3beb33350f3e39a08a2b4b33c6634f2a"
  },
  "kernelspec": {
   "display_name": "Python 3.8.5 64-bit ('base': conda)",
   "name": "python3"
  },
  "language_info": {
   "name": "python",
   "version": ""
  },
  "orig_nbformat": 4
 },
 "nbformat": 4,
 "nbformat_minor": 2
}